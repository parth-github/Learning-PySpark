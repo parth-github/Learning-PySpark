{
 "cells": [
  {
   "cell_type": "markdown",
   "metadata": {},
   "source": [
    "Pre-requisite\n",
    "=============\n",
    "A) Install Anaconda (miniconda3)\n",
    "\n",
    "B) Install spark-scala-version-hadoop-version\n",
    "    \n",
    "C) Download and place winutils.exe in SPARK_HOME\\hadoop\n",
    "    \n",
    "    !set SPARK_HOME and HADOOP_HOME=%SPARK_HOME%\\hadoop\n",
    "    \n",
    "    PATH=%PATH%,%SPARK_HOME%\\bin\n",
    "    \n",
    "1. Create and Change to workspace directory 'learningPyspark'\n",
    "2. Launch Anaconda prompt (miniconda) \n",
    "3. Create and activate a anaconda environment from conda prompt\n",
    "\n",
    "    !conda create -name learningPysparkPacktpub\n",
    "\n",
    "    !conda activate learningPysparkPacktpub\n",
    "\n",
    "4. Install jupyterlab and pyspark packages\n",
    "    !conda install jupyterlab pyspark -y\n",
    "\n",
    "5. Launch Jupyter Lab\n",
    "    !jupyter lab"
   ]
  },
  {
   "cell_type": "markdown",
   "metadata": {},
   "source": [
    "Lession Objective\n",
    "=================\n",
    "1. Create SparkContext from SparkConf\n",
    "2. Create SQLContext from SparkContext\n",
    "3. Create SparkSession \n",
    "4. Create a main application to run on cmd> with spark-submit"
   ]
  },
  {
   "cell_type": "code",
   "execution_count": 49,
   "metadata": {},
   "outputs": [],
   "source": [
    "import pyspark\n",
    "\n",
    " \n",
    "conf = pyspark.SparkConf() \n",
    " \n",
    "sc = pyspark.SparkContext.getOrCreate(conf=conf)"
   ]
  },
  {
   "cell_type": "code",
   "execution_count": 50,
   "metadata": {
    "collapsed": false,
    "jupyter": {
     "outputs_hidden": false
    }
   },
   "outputs": [
    {
     "data": {
      "text/html": [
       "\n",
       "        <div>\n",
       "            <p><b>SparkContext</b></p>\n",
       "\n",
       "            <p><a href=\"http://DESKTOP-V4UBEI0:4040\">Spark UI</a></p>\n",
       "\n",
       "            <dl>\n",
       "              <dt>Version</dt>\n",
       "                <dd><code>v3.1.2</code></dd>\n",
       "              <dt>Master</dt>\n",
       "                <dd><code>local[*]</code></dd>\n",
       "              <dt>AppName</dt>\n",
       "                <dd><code>pyspark-shell</code></dd>\n",
       "            </dl>\n",
       "        </div>\n",
       "        "
      ],
      "text/plain": [
       "<SparkContext master=local[*] appName=pyspark-shell>"
      ]
     },
     "execution_count": 50,
     "metadata": {},
     "output_type": "execute_result"
    }
   ],
   "source": [
    "sc"
   ]
  },
  {
   "cell_type": "code",
   "execution_count": 51,
   "metadata": {
    "collapsed": false,
    "jupyter": {
     "outputs_hidden": false
    }
   },
   "outputs": [
    {
     "name": "stdout",
     "output_type": "stream",
     "text": [
      "3.1.2\n",
      "local[*]\n"
     ]
    }
   ],
   "source": [
    "print(sc.version)\n",
    "print(sc.master)"
   ]
  },
  {
   "cell_type": "code",
   "execution_count": 52,
   "metadata": {},
   "outputs": [
    {
     "data": {
      "text/plain": [
       "<pyspark.sql.context.SQLContext at 0x1f7d3448a30>"
      ]
     },
     "execution_count": 52,
     "metadata": {},
     "output_type": "execute_result"
    }
   ],
   "source": [
    "from pyspark import SQLContext\n",
    "sqlContext = SQLContext(sc)\n",
    "sqlContext"
   ]
  },
  {
   "cell_type": "code",
   "execution_count": 53,
   "metadata": {},
   "outputs": [],
   "source": [
    "from pyspark.sql.types import StructType, StructField, FloatType, BooleanType\n",
    "from pyspark.sql.types import DoubleType, IntegerType, StringType\n",
    "\n",
    "schema = StructType([\n",
    "    StructField(\"sales\", IntegerType(),True), \n",
    "    StructField(\"sales person\", StringType(),True)\n",
    "])\n",
    "\n",
    "data = ([(10, 'Walker'),\n",
    "        ( 20, 'Stepher')\n",
    "        ])\n",
    "        \n",
    "df=sqlContext.createDataFrame(data,schema=schema)"
   ]
  },
  {
   "cell_type": "markdown",
   "metadata": {},
   "source": [
    "# Creating Data Frame from SparkSession"
   ]
  },
  {
   "cell_type": "code",
   "execution_count": 54,
   "metadata": {},
   "outputs": [],
   "source": [
    "from pyspark.sql import SparkSession\n",
    "\n",
    "spark = SparkSession \\\n",
    "    .builder \\\n",
    "    .appName(\"LearningPyspark from Packtpub\") \\\n",
    "    .getOrCreate()"
   ]
  },
  {
   "cell_type": "code",
   "execution_count": 55,
   "metadata": {},
   "outputs": [],
   "source": [
    "df = spark.read.format('text') \\\n",
    "    .option('compression', 'gzip') \\\n",
    "    .load('../dataset/VS14MORT_dataset_for_learningPyspark.txt.gz')"
   ]
  },
  {
   "cell_type": "code",
   "execution_count": 56,
   "metadata": {},
   "outputs": [
    {
     "name": "stdout",
     "output_type": "stream",
     "text": [
      "+--------------------+\n",
      "|               value|\n",
      "+--------------------+\n",
      "|                 ...|\n",
      "|                 ...|\n",
      "|                 ...|\n",
      "|                 ...|\n",
      "|                 ...|\n",
      "|                 ...|\n",
      "|                 ...|\n",
      "|                 ...|\n",
      "|                 ...|\n",
      "|                 ...|\n",
      "|                 ...|\n",
      "|                 ...|\n",
      "|                 ...|\n",
      "|                 ...|\n",
      "|                 ...|\n",
      "|                 ...|\n",
      "|                 ...|\n",
      "|                 ...|\n",
      "|                 ...|\n",
      "|                 ...|\n",
      "+--------------------+\n",
      "only showing top 20 rows\n",
      "\n"
     ]
    }
   ],
   "source": [
    "df.show()"
   ]
  },
  {
   "cell_type": "code",
   "execution_count": null,
   "metadata": {},
   "outputs": [],
   "source": []
  }
 ],
 "metadata": {
  "kernelspec": {
   "display_name": "Python 3 (ipykernel)",
   "language": "python",
   "name": "python3"
  },
  "language_info": {
   "codemirror_mode": {
    "name": "ipython",
    "version": 3
   },
   "file_extension": ".py",
   "mimetype": "text/x-python",
   "name": "python",
   "nbconvert_exporter": "python",
   "pygments_lexer": "ipython3",
   "version": "3.9.6"
  }
 },
 "nbformat": 4,
 "nbformat_minor": 4
}
